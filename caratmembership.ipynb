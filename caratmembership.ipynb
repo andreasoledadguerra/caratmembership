{
 "cells": [
  {
   "cell_type": "code",
   "execution_count": null,
   "metadata": {},
   "outputs": [],
   "source": [
    "import pandas as pd\n",
    "import streamlit as st\n",
    "\n",
    "def page1():\n",
    "    st.header(\"You are in the page 1\")\n",
    "    st.image(\"https://upload.wikimedia.org/wikipedia/commons/e/eb/Ateez_at_The_World_EP._2_Outlaw_Showcase.jpg\", width=2100)\n",
    "\n",
    "def page2():\n",
    "    st.header(\"You are in the page 2\")\n",
    "    st.image(\"https://upload.wikimedia.org/wikipedia/commons/thumb/a/ac/SEVENTEEN%28%EC%84%B8%EB%B8%90%ED%8B%B4%29_-_%27Ready_to_love%27_%EC%9D%91%EC%9B%90%EB%B2%95_3m_25s.jpg/1920px-SEVENTEEN%28%EC%84%B8%EB%B8%90%ED%8B%B4%29_-_%27Ready_to_love%27_%EC%9D%91%EC%9B%90%EB%B2%95_3m_25s.jpg\", width=2100)\n",
    "\n",
    "\n",
    "tab1, tab2 = st.tabs([\"Page 1\", \"Page 2\"])\n",
    "\n",
    "\n",
    "with tab1:\n",
    "    page1()\n",
    "\n",
    "with tab2:\n",
    "    page2()\n",
    "\n",
    "st.txt(\"Hola! Quiero ser tu página de Carat membership\")"
   ]
  }
 ],
 "metadata": {
  "language_info": {
   "name": "python"
  }
 },
 "nbformat": 4,
 "nbformat_minor": 2
}
